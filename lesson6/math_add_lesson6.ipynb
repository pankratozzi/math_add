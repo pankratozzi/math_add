{
  "nbformat": 4,
  "nbformat_minor": 0,
  "metadata": {
    "colab": {
      "name": "math_add_lesson6.ipynb",
      "provenance": [],
      "collapsed_sections": []
    },
    "kernelspec": {
      "name": "python3",
      "display_name": "Python 3"
    },
    "language_info": {
      "name": "python"
    }
  },
  "cells": [
    {
      "cell_type": "code",
      "source": [
        "import numpy as np"
      ],
      "metadata": {
        "id": "QfNJttYf39t6"
      },
      "execution_count": 2,
      "outputs": []
    },
    {
      "cell_type": "markdown",
      "source": [
        "Задание (теорема сложения)\n",
        "Найти вероятность выпадения 2 или 5 очков при подбрасывании игральной кости, на гранях которой имеются соответственно 1,2,3,4,5 и 6 очков. \n"
      ],
      "metadata": {
        "id": "7tXhjf-6341J"
      }
    },
    {
      "cell_type": "code",
      "execution_count": 78,
      "metadata": {
        "colab": {
          "base_uri": "https://localhost:8080/"
        },
        "id": "yK_GJ2L_30xB",
        "outputId": "efaac3e1-8c94-4c7e-9190-74a41a0a39f3"
      },
      "outputs": [
        {
          "output_type": "execute_result",
          "data": {
            "text/plain": [
              "0.333774"
            ]
          },
          "metadata": {},
          "execution_count": 78
        }
      ],
      "source": [
        "n = 1000000\n",
        "a = np.random.randint(1,7, n)\n",
        "arr, counts = np.unique(a, return_counts=True)\n",
        "counts[1] / n + counts[4] / n"
      ]
    },
    {
      "cell_type": "code",
      "source": [
        "1/6 + 1/6"
      ],
      "metadata": {
        "colab": {
          "base_uri": "https://localhost:8080/"
        },
        "id": "iwNH8Ife5Fz6",
        "outputId": "3980b745-d52b-43c3-f607-51d657ccb2de"
      },
      "execution_count": 7,
      "outputs": [
        {
          "output_type": "execute_result",
          "data": {
            "text/plain": [
              "0.3333333333333333"
            ]
          },
          "metadata": {},
          "execution_count": 7
        }
      ]
    },
    {
      "cell_type": "markdown",
      "source": [
        "Задание (теорема умножения)\n",
        "Найти вероятность того, что при двух подбрасываниях той же самой игральной кости сначала выпадет 2, а затем 5.\n"
      ],
      "metadata": {
        "id": "fNOduBsQ5JmK"
      }
    },
    {
      "cell_type": "code",
      "source": [
        "counts[0] * counts[4] / n**2"
      ],
      "metadata": {
        "colab": {
          "base_uri": "https://localhost:8080/"
        },
        "id": "U6cVjiWE5Moc",
        "outputId": "68444a21-2acd-4424-c2ca-846591f92561"
      },
      "execution_count": 80,
      "outputs": [
        {
          "output_type": "execute_result",
          "data": {
            "text/plain": [
              "0.027956505888"
            ]
          },
          "metadata": {},
          "execution_count": 80
        }
      ]
    },
    {
      "cell_type": "code",
      "source": [
        "1/6 * 1/6"
      ],
      "metadata": {
        "colab": {
          "base_uri": "https://localhost:8080/"
        },
        "id": "g108Xj5c5Y_a",
        "outputId": "df408d24-d080-4dc7-ea8b-91ea9aa2a537"
      },
      "execution_count": 9,
      "outputs": [
        {
          "output_type": "execute_result",
          "data": {
            "text/plain": [
              "0.027777777777777776"
            ]
          },
          "metadata": {},
          "execution_count": 9
        }
      ]
    },
    {
      "cell_type": "markdown",
      "source": [
        "Задание \n",
        "Найти вероятность выпадения 2 и 5 очков при двух подбрасываниях той же самой игральной игральной кости. Обратите внимание на порядок выпадения костей!\n"
      ],
      "metadata": {
        "id": "3fEATOK29t_p"
      }
    },
    {
      "cell_type": "code",
      "source": [
        "1/6 * 1/6 * 2 # при условии, что нам не важно выпадет сначала 2 или 5"
      ],
      "metadata": {
        "colab": {
          "base_uri": "https://localhost:8080/"
        },
        "id": "4V6fOwqt_tYE",
        "outputId": "f3d7292d-add4-4292-d434-a021c5368955"
      },
      "execution_count": 26,
      "outputs": [
        {
          "output_type": "execute_result",
          "data": {
            "text/plain": [
              "0.05555555555555555"
            ]
          },
          "metadata": {},
          "execution_count": 26
        }
      ]
    },
    {
      "cell_type": "markdown",
      "source": [
        "Задание  (Геометрическая вероятность +интервалы)\n",
        "На отрезке AB длиной 20 см наугад отметили точку C. Какова вероятность, что она находится на расстоянии не более 9 см от точки А и не более 15 см от точки В?\n"
      ],
      "metadata": {
        "id": "fHTWxifPAQnB"
      }
    },
    {
      "cell_type": "code",
      "source": [
        "import matplotlib.pyplot as plt\n",
        "\n",
        "c = np.random.randint(5,10)\n",
        "a = 0\n",
        "b = 20\n",
        "x = np.linspace(-3, 25, 15)\n",
        "y = np.ones(15)\n",
        "\n",
        "plt.title(f'$P = {((a+9) - (b-15))/b}$')\n",
        "plt.plot(x,y)\n",
        "plt.scatter(a, 1)\n",
        "plt.scatter(b, 1)\n",
        "plt.scatter(c, 1)\n",
        "plt.axvline(5, c='r', ls='--')\n",
        "plt.axvline(9, c='r', ls='--')\n",
        "plt.grid()\n",
        "plt.show()"
      ],
      "metadata": {
        "colab": {
          "base_uri": "https://localhost:8080/",
          "height": 281
        },
        "id": "jaB-fJc3BJdr",
        "outputId": "d2b58551-0290-493b-b804-faa8b44f8882"
      },
      "execution_count": 42,
      "outputs": [
        {
          "output_type": "display_data",
          "data": {
            "text/plain": [
              "<Figure size 432x288 with 1 Axes>"
            ],
            "image/png": "[encoded data removed]"
          },
          "metadata": {
            "needs_background": "light"
          }
        }
      ]
    },
    {
      "cell_type": "markdown",
      "source": [
        "Задание. Телефонный номер состоит из 7 цифр. Какова вероятность, \n",
        "что это номер 8882227?\n"
      ],
      "metadata": {
        "id": "EoxKM0f0EWI9"
      }
    },
    {
      "cell_type": "code",
      "source": [
        "# если предположить, что первая цифра не 0\n",
        "n = 10\n",
        "k = 7\n",
        "1 / 9 * (1 /  n ** (k-1))"
      ],
      "metadata": {
        "colab": {
          "base_uri": "https://localhost:8080/"
        },
        "id": "vXXBhXUrEDiH",
        "outputId": "77fa86ae-0398-42b5-c3b1-b1db9383261b"
      },
      "execution_count": 48,
      "outputs": [
        {
          "output_type": "execute_result",
          "data": {
            "text/plain": [
              "1.111111111111111e-07"
            ]
          },
          "metadata": {},
          "execution_count": 48
        }
      ]
    },
    {
      "cell_type": "code",
      "source": [
        "# если первая может быть 0\n",
        "1 / n ** k"
      ],
      "metadata": {
        "colab": {
          "base_uri": "https://localhost:8080/"
        },
        "id": "egJDUk4LDVXU",
        "outputId": "eb9c8de5-fc4c-4b63-fe9e-642c1fe0c7b4"
      },
      "execution_count": 45,
      "outputs": [
        {
          "output_type": "execute_result",
          "data": {
            "text/plain": [
              "1e-07"
            ]
          },
          "metadata": {},
          "execution_count": 45
        }
      ]
    },
    {
      "cell_type": "markdown",
      "source": [
        "Задание. Набирая номер телефона, абонент забыл 2 последние цифры, и, помня только то, что эти цифры различны и среди них нет нуля, стал набирать их наудачу. Сколько вариантов ему надо перебрать, чтобы наверняка найти нужный номер? Какова вероятность того, что он угадает номер с первого раза?"
      ],
      "metadata": {
        "id": "V9fuc6BQFvgj"
      }
    },
    {
      "cell_type": "code",
      "source": [
        "from itertools import permutations\n",
        "\n",
        "count = 0\n",
        "for p in permutations('123456789', 2):\n",
        "    count += 1\n",
        "count"
      ],
      "metadata": {
        "colab": {
          "base_uri": "https://localhost:8080/"
        },
        "id": "0l9dKLSeH6Q6",
        "outputId": "0abd4256-004d-41a0-a6ad-af4f07f92cb6"
      },
      "execution_count": 91,
      "outputs": [
        {
          "output_type": "execute_result",
          "data": {
            "text/plain": [
              "72"
            ]
          },
          "metadata": {},
          "execution_count": 91
        }
      ]
    },
    {
      "cell_type": "code",
      "source": [
        "def combinations(n: int, k: int, order: int=1) -> int:\n",
        "    return np.math.factorial(n) // (np.math.factorial(k*order) * np.math.factorial(n - k))"
      ],
      "metadata": {
        "id": "7h0QMaO9LfA9"
      },
      "execution_count": 95,
      "outputs": []
    },
    {
      "cell_type": "code",
      "source": [
        "combinations(9,1) * combinations(8,1)"
      ],
      "metadata": {
        "colab": {
          "base_uri": "https://localhost:8080/"
        },
        "id": "crEKCwT4LYdH",
        "outputId": "729f57ee-ef67-4455-e583-05ae4b14363e"
      },
      "execution_count": 96,
      "outputs": [
        {
          "output_type": "execute_result",
          "data": {
            "text/plain": [
              "72"
            ]
          },
          "metadata": {},
          "execution_count": 96
        }
      ]
    },
    {
      "cell_type": "code",
      "source": [
        "combinations(9, 2, order=0)"
      ],
      "metadata": {
        "colab": {
          "base_uri": "https://localhost:8080/"
        },
        "id": "7GZ5Ad14QQbL",
        "outputId": "e8a8ec60-ce17-439c-bd0d-0d4b6059c843"
      },
      "execution_count": 87,
      "outputs": [
        {
          "output_type": "execute_result",
          "data": {
            "text/plain": [
              "72"
            ]
          },
          "metadata": {},
          "execution_count": 87
        }
      ]
    },
    {
      "cell_type": "code",
      "source": [
        "# количество благоприятных исходов к общему числу исходов (вариантов двух цифр)\n",
        "1 / 72"
      ],
      "metadata": {
        "colab": {
          "base_uri": "https://localhost:8080/"
        },
        "id": "Zw2GeLjARb8j",
        "outputId": "32b6c869-79a5-4880-a6ce-de3e7c8a8cb8"
      },
      "execution_count": 88,
      "outputs": [
        {
          "output_type": "execute_result",
          "data": {
            "text/plain": [
              "0.013888888888888888"
            ]
          },
          "metadata": {},
          "execution_count": 88
        }
      ]
    },
    {
      "cell_type": "markdown",
      "source": [
        "Задание** (необязательное) \n",
        "Чёрный куб покрасили снаружи белой краской, затем разрезали на 27 одинаковых маленьких кубиков и как попало сложили из них большой куб. С какой вероятностью  все грани этого куба будут белыми?\n"
      ],
      "metadata": {
        "id": "7J_fOgleLLiB"
      }
    },
    {
      "cell_type": "code",
      "source": [
        "n = 27\n",
        "three_white_shapes = 8\n",
        "two_white_shapes = 12\n",
        "one_white_shape = 6\n",
        "black = 1\n",
        "\n",
        "total_rotations = np.math.factorial(27) * np.power(24, 10)\n",
        "\n",
        "three_rot = np.math.factorial(three_white_shapes) * np.power(3, three_white_shapes)\n",
        "two_rot = np.math.factorial(two_white_shapes) * np.power(2, two_white_shapes)\n",
        "one_rot = np.math.factorial(one_white_shape) * np.power(1, one_white_shape)\n",
        "black_rot = 24\n",
        "\n",
        "temp = (three_rot * two_rot * one_rot * black_rot) / total_rotations\n",
        "temp / np.power(24, 17)"
      ],
      "metadata": {
        "colab": {
          "base_uri": "https://localhost:8080/"
        },
        "id": "tgnYIJfLL_cJ",
        "outputId": "e61be337-e701-4370-bf25-7de19356eb71"
      },
      "execution_count": 84,
      "outputs": [
        {
          "output_type": "stream",
          "name": "stderr",
          "text": [
            "/usr/local/lib/python3.7/dist-packages/ipykernel_launcher.py:14: RuntimeWarning: overflow encountered in long_scalars\n",
            "  \n"
          ]
        },
        {
          "output_type": "execute_result",
          "data": {
            "text/plain": [
              "9.669737452466674e-43"
            ]
          },
          "metadata": {},
          "execution_count": 84
        }
      ]
    }
  ]
}