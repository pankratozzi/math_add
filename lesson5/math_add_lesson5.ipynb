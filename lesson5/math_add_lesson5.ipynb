{
  "nbformat": 4,
  "nbformat_minor": 0,
  "metadata": {
    "colab": {
      "name": "math_add_lesson5.ipynb",
      "provenance": [],
      "collapsed_sections": []
    },
    "kernelspec": {
      "name": "python3",
      "display_name": "Python 3"
    },
    "language_info": {
      "name": "python"
    }
  },
  "cells": [
    {
      "cell_type": "code",
      "execution_count": 63,
      "metadata": {
        "id": "NYtX8xN1Qg5d"
      },
      "outputs": [],
      "source": [
        "import numpy as np\n",
        "import matplotlib.pyplot as plt\n",
        "import pandas as pd\n",
        "from itertools import combinations as comb, product, permutations"
      ]
    },
    {
      "cell_type": "markdown",
      "source": [
        "1. Напишите код, моделирующий выпадение поля в рулетке (с учетом поля зеро).\n"
      ],
      "metadata": {
        "id": "5hVPG7VRRQgo"
      }
    },
    {
      "cell_type": "code",
      "source": [
        "cells = np.zeros((37,))\n",
        "for _ in range(100000):\n",
        "    cells[np.random.randint(37)] += 1\n",
        "\n",
        "ds = pd.Series(data=cells, index=np.arange(37), name='roulette')\n",
        "\n",
        "plt.hist(ds.index, bins=37, weights=cells)\n",
        "plt.show()"
      ],
      "metadata": {
        "colab": {
          "base_uri": "https://localhost:8080/",
          "height": 265
        },
        "id": "iFf9dv_aQzzc",
        "outputId": "f8b4c7fa-2319-4f25-b7a9-618da057187b"
      },
      "execution_count": 31,
      "outputs": [
        {
          "output_type": "display_data",
          "data": {
            "text/plain": [
              "<Figure size 432x288 with 1 Axes>"
            ],
            "image/png": "[encoded data removed]"
          },
          "metadata": {
            "needs_background": "light"
          }
        }
      ]
    },
    {
      "cell_type": "markdown",
      "source": [
        "Напишите код, проверяющий любую из теорем сложения или умножения вероятности на примере рулетки или подбрасывания монетки."
      ],
      "metadata": {
        "id": "3FJFTafFVu_E"
      }
    },
    {
      "cell_type": "code",
      "source": [
        "roulette = pd.DataFrame({'cell': range(37), 'color': 0})\n",
        "\n",
        "colors_idx = [\n",
        "        0, 32, 15, 19, 4, 21, 2, 25, 17, 34, 6, 27,\n",
        "        13, 36, 11, 30, 8, 23, 10, 5, 24, 16, 33, 1,\n",
        "        20, 14, 31, 9, 22, 18, 29, 7, 28, 12, 35, 3, 26\n",
        "    ]\n",
        "\n",
        "for i in range(1, len(roulette)):\n",
        "    if colors_idx.index(i) % 2 == 0:\n",
        "        roulette.loc[i, 'color'] = 'black'\n",
        "    else:\n",
        "        roulette.loc[i, 'color'] = 'red'\n",
        "\n",
        "for _ in range(100000):\n",
        "    roulette.loc[np.random.randint(37), 'cell'] += 1"
      ],
      "metadata": {
        "id": "4vqGEsmmUmzz"
      },
      "execution_count": 39,
      "outputs": []
    },
    {
      "cell_type": "code",
      "source": [
        "# red probability (odd index)\n",
        "\n",
        "P_red = roulette.loc[roulette.color == 'red', 'cell'].sum() / roulette['cell'].sum()\n",
        "P_red"
      ],
      "metadata": {
        "colab": {
          "base_uri": "https://localhost:8080/"
        },
        "id": "uamXrh7DXK9H",
        "outputId": "637f1487-18b0-4aea-ccd8-9c1adc87ca0a"
      },
      "execution_count": 40,
      "outputs": [
        {
          "output_type": "execute_result",
          "data": {
            "text/plain": [
              "0.488387340313512"
            ]
          },
          "metadata": {},
          "execution_count": 40
        }
      ]
    },
    {
      "cell_type": "code",
      "source": [
        "# black probability\n",
        "\n",
        "P_black = roulette.loc[roulette.color == 'black', 'cell'].sum() / roulette['cell'].sum()\n",
        "P_black"
      ],
      "metadata": {
        "colab": {
          "base_uri": "https://localhost:8080/"
        },
        "id": "D6ZY2qJpbA-x",
        "outputId": "ba7936d9-3fd4-463b-d596-86b83f294791"
      },
      "execution_count": 41,
      "outputs": [
        {
          "output_type": "execute_result",
          "data": {
            "text/plain": [
              "0.4847813561679216"
            ]
          },
          "metadata": {},
          "execution_count": 41
        }
      ]
    },
    {
      "cell_type": "code",
      "source": [
        "# probability of non-zero cell\n",
        "P_red_black = roulette.loc[roulette.color.isin(['red', 'black']), 'cell'].sum() / roulette['cell'].sum()\n",
        "\n",
        "P_red_black, P_red + P_black"
      ],
      "metadata": {
        "colab": {
          "base_uri": "https://localhost:8080/"
        },
        "id": "EJjgA9FibMtf",
        "outputId": "015d5097-38d6-4eae-a956-ff96a3f8668b"
      },
      "execution_count": 42,
      "outputs": [
        {
          "output_type": "execute_result",
          "data": {
            "text/plain": [
              "(0.9731686964814337, 0.9731686964814337)"
            ]
          },
          "metadata": {},
          "execution_count": 42
        }
      ]
    },
    {
      "cell_type": "markdown",
      "source": [
        "Сгенерируйте десять выборок случайных чисел х0, …, х9.\n",
        "и постройте гистограмму распределения случайной суммы  +х0+ …+ х 9. "
      ],
      "metadata": {
        "id": "TSma9eJ1b6ot"
      }
    },
    {
      "cell_type": "code",
      "source": [
        "samples = np.array([np.random.rand(10) for _ in range(10)])\n",
        "\n",
        "plt.hist(x=np.arange(10), weights=samples.sum(axis=1))\n",
        "plt.show()"
      ],
      "metadata": {
        "colab": {
          "base_uri": "https://localhost:8080/",
          "height": 269
        },
        "id": "Q5ozy5JWb7E8",
        "outputId": "7b1fdcc3-3ad3-4e41-f24e-0c96c6967071"
      },
      "execution_count": 56,
      "outputs": [
        {
          "output_type": "display_data",
          "data": {
            "text/plain": [
              "<Figure size 432x288 with 1 Axes>"
            ],
            "image/png": "[encoded data removed]"
          },
          "metadata": {
            "needs_background": "light"
          }
        }
      ]
    },
    {
      "cell_type": "markdown",
      "source": [
        "Дополните код Монте-Карло последовательности независимых испытаний расчетом соответствующих вероятностей (через биномиальное распределение) \n",
        "и сравните результаты.\n"
      ],
      "metadata": {
        "id": "M_U2oKjGg3S0"
      }
    },
    {
      "cell_type": "code",
      "source": [
        "k = 0\n",
        "n = 10_000\n",
        "a = np.random.randint(0, 2, n)\n",
        "b = np.random.randint(0, 2, n)\n",
        "c = np.random.randint(0, 2, n)\n",
        "d = np.random.randint(0, 2, n)\n",
        "x = a + b + c + d\n",
        "for i in range(len(x)):\n",
        "    if x[i] == 2:\n",
        "        k += 1\n",
        "print(k, n, k/n)"
      ],
      "metadata": {
        "colab": {
          "base_uri": "https://localhost:8080/"
        },
        "id": "XoQ30V43g2rj",
        "outputId": "7212835f-a87a-4aa2-a2fa-c66e2aa94e2e"
      },
      "execution_count": 67,
      "outputs": [
        {
          "output_type": "stream",
          "name": "stdout",
          "text": [
            "3783 10000 0.3783\n"
          ]
        }
      ]
    },
    {
      "cell_type": "code",
      "source": [
        "def combinations(n: int, k: int) -> int:\n",
        "    return np.math.factorial(n) // (np.math.factorial(k) * np.math.factorial(n - k))"
      ],
      "metadata": {
        "id": "_1mklhCShK4l"
      },
      "execution_count": 61,
      "outputs": []
    },
    {
      "cell_type": "code",
      "source": [
        "k = 2\n",
        "n = 4\n",
        "combinations(n, k)"
      ],
      "metadata": {
        "colab": {
          "base_uri": "https://localhost:8080/"
        },
        "id": "ZGkcLSaQhFEd",
        "outputId": "2759a415-c656-4491-fa1c-cd9c9527917c"
      },
      "execution_count": 62,
      "outputs": [
        {
          "output_type": "execute_result",
          "data": {
            "text/plain": [
              "6"
            ]
          },
          "metadata": {},
          "execution_count": 62
        }
      ]
    },
    {
      "cell_type": "code",
      "source": [
        "P = combinations(n,k) * 1/2**n\n",
        "P"
      ],
      "metadata": {
        "colab": {
          "base_uri": "https://localhost:8080/"
        },
        "id": "RpRZB9MzhV6H",
        "outputId": "7e3051f2-7460-4cc2-e1b9-6604d7643fad"
      },
      "execution_count": 64,
      "outputs": [
        {
          "output_type": "execute_result",
          "data": {
            "text/plain": [
              "0.375"
            ]
          },
          "metadata": {},
          "execution_count": 64
        }
      ]
    },
    {
      "cell_type": "markdown",
      "source": [
        "Повторите расчеты биномиальных коэффициентов и вероятностей k успехов в последовательности из n независимых испытаний, взяв другие значения n и k.\n"
      ],
      "metadata": {
        "id": "FhbdqsIuhohe"
      }
    },
    {
      "cell_type": "code",
      "source": [
        "k = 0\n",
        "n = 10_000\n",
        "a = np.random.randint(0, 2, n)\n",
        "b = np.random.randint(0, 2, n)\n",
        "c = np.random.randint(0, 2, n)\n",
        "d = np.random.randint(0, 2, n)\n",
        "f = np.random.randint(0, 2, n)\n",
        "e = np.random.randint(0, 2, n)\n",
        "x = a + b + c + d + f + e\n",
        "for i in range(len(x)):\n",
        "    if x[i] == 3:\n",
        "        k += 1\n",
        "print(k, n, k/n)"
      ],
      "metadata": {
        "colab": {
          "base_uri": "https://localhost:8080/"
        },
        "id": "KBXHKOVcheLp",
        "outputId": "67be2829-672b-486b-c679-e172e6a3f647"
      },
      "execution_count": 74,
      "outputs": [
        {
          "output_type": "stream",
          "name": "stdout",
          "text": [
            "3188 10000 0.3188\n"
          ]
        }
      ]
    },
    {
      "cell_type": "code",
      "source": [
        "k = 3\n",
        "n = 6"
      ],
      "metadata": {
        "id": "DF67zC3oh_SR"
      },
      "execution_count": 69,
      "outputs": []
    },
    {
      "cell_type": "code",
      "source": [
        "P = combinations(n,k) * 1/2**n\n",
        "P"
      ],
      "metadata": {
        "colab": {
          "base_uri": "https://localhost:8080/"
        },
        "id": "fFKFFmhhiEH5",
        "outputId": "80094acc-6e18-420a-9c68-9d3db828355b"
      },
      "execution_count": 71,
      "outputs": [
        {
          "output_type": "execute_result",
          "data": {
            "text/plain": [
              "0.3125"
            ]
          },
          "metadata": {},
          "execution_count": 71
        }
      ]
    },
    {
      "cell_type": "markdown",
      "source": [
        "(не обязательно, но желательно) Из урока по комбинаторике повторите расчеты, сгенерировав возможные варианты перестановок для других значений n и k\n"
      ],
      "metadata": {
        "id": "Xa2NYcWTiOgZ"
      }
    },
    {
      "cell_type": "code",
      "source": [
        "for p in permutations('012345', 2):\n",
        "    print(*p, sep='-', end=' ')"
      ],
      "metadata": {
        "colab": {
          "base_uri": "https://localhost:8080/"
        },
        "id": "552EF-BhiSdv",
        "outputId": "fca8bf88-d64a-4e00-8c1e-c08a86b8b3ae"
      },
      "execution_count": 81,
      "outputs": [
        {
          "output_type": "stream",
          "name": "stdout",
          "text": [
            "0-1 0-2 0-3 0-4 0-5 1-0 1-2 1-3 1-4 1-5 2-0 2-1 2-3 2-4 2-5 3-0 3-1 3-2 3-4 3-5 4-0 4-1 4-2 4-3 4-5 5-0 5-1 5-2 5-3 5-4 "
          ]
        }
      ]
    },
    {
      "cell_type": "code",
      "source": [
        "n = 6\n",
        "k = 2\n",
        "n * (n - k + 1)"
      ],
      "metadata": {
        "colab": {
          "base_uri": "https://localhost:8080/"
        },
        "id": "l2V1qpvTiohW",
        "outputId": "ce2f42cb-a005-42b6-ce50-dec6fa19298c"
      },
      "execution_count": 82,
      "outputs": [
        {
          "output_type": "execute_result",
          "data": {
            "text/plain": [
              "30"
            ]
          },
          "metadata": {},
          "execution_count": 82
        }
      ]
    },
    {
      "cell_type": "code",
      "source": [
        "for p in comb('012345', 2):\n",
        "    print(*p, sep='')"
      ],
      "metadata": {
        "colab": {
          "base_uri": "https://localhost:8080/"
        },
        "id": "uS29axQNiwWi",
        "outputId": "d5a8a814-c1c9-4251-c257-023c263366cc"
      },
      "execution_count": 85,
      "outputs": [
        {
          "output_type": "stream",
          "name": "stdout",
          "text": [
            "01\n",
            "02\n",
            "03\n",
            "04\n",
            "05\n",
            "12\n",
            "13\n",
            "14\n",
            "15\n",
            "23\n",
            "24\n",
            "25\n",
            "34\n",
            "35\n",
            "45\n"
          ]
        }
      ]
    },
    {
      "cell_type": "code",
      "source": [
        "combinations(n,k)"
      ],
      "metadata": {
        "colab": {
          "base_uri": "https://localhost:8080/"
        },
        "id": "1xolx8wPi34_",
        "outputId": "5c25e8ec-8d68-4260-c6e7-9ad44cc7c4fb"
      },
      "execution_count": 84,
      "outputs": [
        {
          "output_type": "execute_result",
          "data": {
            "text/plain": [
              "15"
            ]
          },
          "metadata": {},
          "execution_count": 84
        }
      ]
    },
    {
      "cell_type": "markdown",
      "source": [
        "(не обязательно) Дополните код расчетом коэффициента корреляции x и y по формуле\n"
      ],
      "metadata": {
        "id": "haovahf9jJQi"
      }
    },
    {
      "cell_type": "code",
      "source": [
        "n = 100\n",
        "r = 0.9\n",
        "x=np.random.rand(n)\n",
        "y = r * x + (1 - r)*np.random.rand(n)\n",
        "plt.plot(x, y, 'o')\n",
        "plt.show()"
      ],
      "metadata": {
        "colab": {
          "base_uri": "https://localhost:8080/",
          "height": 265
        },
        "id": "fL3v1qhujM3C",
        "outputId": "e3217013-b6d6-4ec4-e33d-b3460247a524"
      },
      "execution_count": 89,
      "outputs": [
        {
          "output_type": "display_data",
          "data": {
            "text/plain": [
              "<Figure size 432x288 with 1 Axes>"
            ],
            "image/png": "[encoded data removed]"
          },
          "metadata": {
            "needs_background": "light"
          }
        }
      ]
    },
    {
      "cell_type": "code",
      "source": [
        "np.corrcoef(x,y)[0,1]"
      ],
      "metadata": {
        "colab": {
          "base_uri": "https://localhost:8080/"
        },
        "id": "dXzwt_1GkFXU",
        "outputId": "8235b41b-bca1-4cff-9e07-0c426910f230"
      },
      "execution_count": 93,
      "outputs": [
        {
          "output_type": "execute_result",
          "data": {
            "text/plain": [
              "0.994871007832893"
            ]
          },
          "metadata": {},
          "execution_count": 93
        }
      ]
    },
    {
      "cell_type": "code",
      "source": [
        "np.sum((x - x.mean())*(y - y.mean())) / np.sqrt((np.sum(np.power(x - x.mean(), 2))* (np.sum(np.power(y - y.mean(), 2))))) "
      ],
      "metadata": {
        "colab": {
          "base_uri": "https://localhost:8080/"
        },
        "id": "HqWVfs7JkT4E",
        "outputId": "a7084b3f-6584-49be-d46a-9efbc5baf312"
      },
      "execution_count": 94,
      "outputs": [
        {
          "output_type": "execute_result",
          "data": {
            "text/plain": [
              "0.9948710078328933"
            ]
          },
          "metadata": {},
          "execution_count": 94
        }
      ]
    }
  ]
}