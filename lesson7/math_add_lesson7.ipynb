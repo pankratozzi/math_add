{
  "nbformat": 4,
  "nbformat_minor": 0,
  "metadata": {
    "colab": {
      "name": "math_add_lesson7.ipynb",
      "provenance": [],
      "collapsed_sections": []
    },
    "kernelspec": {
      "name": "python3",
      "display_name": "Python 3"
    },
    "language_info": {
      "name": "python"
    }
  },
  "cells": [
    {
      "cell_type": "code",
      "execution_count": 1,
      "metadata": {
        "id": "B5nC1SaL1vGc"
      },
      "outputs": [],
      "source": [
        "import numpy as np"
      ]
    },
    {
      "cell_type": "markdown",
      "source": [
        "Вектор – это частный случай матрицы 1хN и Nх1. Повторите материал для векторов, уделяя особое внимание умножению A∙B.\n",
        "Вычислите, по возможности не используя программирование: (5E)-1 где Е – единичная матрица размера 5х5.\n"
      ],
      "metadata": {
        "id": "jSBjjiE613sQ"
      }
    },
    {
      "cell_type": "code",
      "source": [
        "# материал повторил, копировать его сюда не вижу смысла"
      ],
      "metadata": {
        "id": "w10mTRf217c3"
      },
      "execution_count": null,
      "outputs": []
    },
    {
      "cell_type": "code",
      "source": [
        "A = np.eye(5)\n",
        "A_inv = np.linalg.inv(A)\n",
        "print(A_inv)"
      ],
      "metadata": {
        "colab": {
          "base_uri": "https://localhost:8080/"
        },
        "id": "jh2cn4yh7kyV",
        "outputId": "a9f170a8-0f2f-440a-c077-53a290b6523f"
      },
      "execution_count": 4,
      "outputs": [
        {
          "output_type": "stream",
          "name": "stdout",
          "text": [
            "[[1. 0. 0. 0. 0.]\n",
            " [0. 1. 0. 0. 0.]\n",
            " [0. 0. 1. 0. 0.]\n",
            " [0. 0. 0. 1. 0.]\n",
            " [0. 0. 0. 0. 1.]]\n"
          ]
        }
      ]
    },
    {
      "cell_type": "markdown",
      "source": [
        "$$E = \\begin{pmatrix}\n",
        "1 & 0 & 0 & 0 & 0\\\\\n",
        "0 & 1 & 0 & 0 & 0\\\\\n",
        "0 & 0 & 1 & 0 & 0\\\\\n",
        "0 & 0 & 0 & 1 & 0\\\\\n",
        "0 & 0 & 0 & 0 & 1\n",
        "\\end{pmatrix}$$\n",
        "$$A_{11} = (-1)^{1+1} \\begin{pmatrix}1 & 0\\\\ 0 & 1\\end{pmatrix} = 1$$\n",
        "$$A_{12} = (-1)^{1+2} \\begin{pmatrix}0 & 0\\\\ 1 & 0\\end{pmatrix} = 0$$\n",
        "$$A_{13} = (-1)^{1+3} \\begin{pmatrix}0 & 0\\\\ 0 & 0\\end{pmatrix} = 0$$\n",
        "$$:$$\n",
        "$$:$$\n",
        "$$A_{22} = (-1)^{2+2} \\begin{pmatrix}1 & 0\\\\ 0 & 1\\end{pmatrix} = 1$$\n",
        "$$A_{23} = (-1)^{2+3} \\begin{pmatrix}0 & 0\\\\ 1 & 0\\end{pmatrix} = 0$$\n",
        "$$:$$\n",
        "$$:$$\n",
        "$$A_{55} = (-1)^{5+5} \\begin{pmatrix}1 & 0\\\\ 0 & 1\\end{pmatrix} = 1$$\n",
        "$$A_*^T = \\begin{pmatrix}\n",
        "1 & 0 & 0 & 0 & 0\\\\\n",
        "0 & 1 & 0 & 0 & 0\\\\\n",
        "0 & 0 & 1 & 0 & 0\\\\\n",
        "0 & 0 & 0 & 1 & 0\\\\\n",
        "0 & 0 & 0 & 0 & 1\n",
        "\\end{pmatrix}$$\n",
        "$$A^{-1} = A_*^T / det(A) = \\begin{pmatrix}\n",
        "1 & 0 & 0 & 0 & 0\\\\\n",
        "0 & 1 & 0 & 0 & 0\\\\\n",
        "0 & 0 & 1 & 0 & 0\\\\\n",
        "0 & 0 & 0 & 1 & 0\\\\\n",
        "0 & 0 & 0 & 0 & 1\n",
        "\\end{pmatrix}$$"
      ],
      "metadata": {
        "id": "_0ZBUcEg3WCi"
      }
    },
    {
      "cell_type": "markdown",
      "source": [
        "Вычислите определитель:\n",
        "\n",
        "$$\\begin{pmatrix}\n",
        "1 & 2 & 3\\\\\n",
        "4 & 0 & 6\\\\\n",
        "7 & 8 & 9\n",
        "\\end{pmatrix}$$"
      ],
      "metadata": {
        "id": "_55b1eel79X_"
      }
    },
    {
      "cell_type": "code",
      "source": [
        "A = np.array([[1,2,3], [4,0,6], [7,8,9]])\n",
        "print(np.linalg.det(A))"
      ],
      "metadata": {
        "colab": {
          "base_uri": "https://localhost:8080/"
        },
        "id": "s41pPjLt873j",
        "outputId": "ded74ee1-09c4-4523-c677-5a6159a38b5d"
      },
      "execution_count": 5,
      "outputs": [
        {
          "output_type": "stream",
          "name": "stdout",
          "text": [
            "59.999999999999986\n"
          ]
        }
      ]
    },
    {
      "cell_type": "markdown",
      "source": [
        "$$det\\begin{pmatrix}\n",
        "1 & 2 & 3\\\\\n",
        "4 & 0 & 6\\\\\n",
        "7 & 8 & 9\n",
        "\\end{pmatrix} = \\begin{pmatrix}\n",
        "0 & 6\\\\ 8 & 9\\end{pmatrix} - 2\\cdot \\begin{pmatrix}4 & 6\\\\ 7 & 9\\end{pmatrix} + 3\\cdot \\begin{pmatrix}4 & 0\\\\ 7 & 8 \\end{pmatrix} = -48 - 2\\cdot(36 - 42) + 3\\cdot32 = 60$$"
      ],
      "metadata": {
        "id": "SNW_LQtO8ZmA"
      }
    },
    {
      "cell_type": "markdown",
      "source": [
        "Вычислите матрицу, обратную данной:\n",
        "$$\\begin{pmatrix}\n",
        "1 & 2 & 3\\\\\n",
        "4 & 0 & 6\\\\\n",
        "7 & 8 & 9\n",
        "\\end{pmatrix}$$"
      ],
      "metadata": {
        "id": "HCLMruIq-gl7"
      }
    },
    {
      "cell_type": "code",
      "source": [
        "A = np.array([[1,2,3], [4,0,6], [7,8,9]])\n",
        "print(np.linalg.inv(A))"
      ],
      "metadata": {
        "colab": {
          "base_uri": "https://localhost:8080/"
        },
        "id": "26kCw2vyAtHD",
        "outputId": "a5849a6f-264d-4ac0-c78d-c7aa132f1e6b"
      },
      "execution_count": 6,
      "outputs": [
        {
          "output_type": "stream",
          "name": "stdout",
          "text": [
            "[[-0.8         0.1         0.2       ]\n",
            " [ 0.1        -0.2         0.1       ]\n",
            " [ 0.53333333  0.1        -0.13333333]]\n"
          ]
        }
      ]
    },
    {
      "cell_type": "markdown",
      "source": [
        "$$A_{11} = (-1)^{1+1} \\begin{pmatrix}0 & 6\\\\ 8 & 9\\end{pmatrix} = -48$$\n",
        "$$A_{12} = (-1)^{1+2} \\begin{pmatrix}4 & 6\\\\ 7 & 9\\end{pmatrix} = 6$$\n",
        "$$A_{13} = (-1)^{1+3} \\begin{pmatrix}4 & 0\\\\ 7 & 8\\end{pmatrix} = 32$$\n",
        "$$A_{21} = (-1)^{2+1} \\begin{pmatrix}2 & 3\\\\ 8 & 9\\end{pmatrix} = 6$$\n",
        "$$A_{22} = (-1)^{2+2} \\begin{pmatrix}1 & 3\\\\ 7 & 9\\end{pmatrix} = -12$$\n",
        "$$A_{23} = (-1)^{2+3} \\begin{pmatrix}1 & 2\\\\ 7 & 8\\end{pmatrix} = 6$$\n",
        "$$A_{31} = (-1)^{3+1} \\begin{pmatrix}2 & 3\\\\ 0 & 6\\end{pmatrix} = 12$$\n",
        "$$A_{32} = (-1)^{3+2} \\begin{pmatrix}1 & 3\\\\ 4 & 6\\end{pmatrix} = 6$$\n",
        "$$A_{33} = (-1)^{3+3} \\begin{pmatrix}1 & 2\\\\ 4 & 0\\end{pmatrix} = -8$$\n",
        "$$detA = 60$$\n",
        "$$A_* = \\begin{pmatrix} -48 & 6 & 32\\\\ 6 & -12 & 6\\\\ 12 & 6 & -8\\end{pmatrix}$$\n",
        "$$A_*^T = \\begin {pmatrix} -48 & 6 & 12\\\\ 6 & -12 & 6\\\\ 32 & 6 & -8 \\end{pmatrix}$$\n",
        "$$A^{-1} = A_*^T/det(A) = \\frac{1}{60}\\cdot \\begin {pmatrix} -48 & 6 & 12\\\\ 6 & -12 & 6\\\\ 32 & 6 & -8 \\end{pmatrix} = \\begin {pmatrix} -\\frac{4}{5} & \\frac{1}{10} & \\frac{1}{5}\\\\ \\frac{1}{10} & -\\frac{1}{5} & \\frac{1}{10}\\\\ \\frac{8}{15} & \\frac{1}{10} & -\\frac{2}{15} \\end{pmatrix}$$"
      ],
      "metadata": {
        "id": "GoJwERkSAoEN"
      }
    },
    {
      "cell_type": "markdown",
      "source": [
        "Приведите пример матрицы 4х4, ранг которой равен 1."
      ],
      "metadata": {
        "id": "PonzqGolE-p6"
      }
    },
    {
      "cell_type": "code",
      "source": [
        "A = np.array([[1, 2, 3, 4],\n",
        "              [2, 4, 6, 8],\n",
        "              [2, 4, 6, 8],\n",
        "              [1, 2, 3, 4]])\n",
        "print(A) # векторы столбцы являются линейной комбинацией друг друга\n",
        "print(np.linalg.matrix_rank(A))"
      ],
      "metadata": {
        "colab": {
          "base_uri": "https://localhost:8080/"
        },
        "id": "FyOXDE-GFC2l",
        "outputId": "ca83fdbb-5e66-4331-b166-f820d9225817"
      },
      "execution_count": 11,
      "outputs": [
        {
          "output_type": "stream",
          "name": "stdout",
          "text": [
            "[[1 2 3 4]\n",
            " [2 4 6 8]\n",
            " [2 4 6 8]\n",
            " [1 2 3 4]]\n",
            "1\n"
          ]
        }
      ]
    },
    {
      "cell_type": "markdown",
      "source": [
        "Вычислите скалярное произведение двух векторов: $A = (1,5), B = (2, 8)$"
      ],
      "metadata": {
        "id": "SFgiRUdmFCLn"
      }
    },
    {
      "cell_type": "code",
      "source": [
        "a = np.array([1,5])\n",
        "b = np.array([2,8])\n",
        "np.dot(a,b)"
      ],
      "metadata": {
        "colab": {
          "base_uri": "https://localhost:8080/"
        },
        "id": "wGKPMG6oGSDm",
        "outputId": "715bfdf9-9b2d-4669-952e-a611834e0ddd"
      },
      "execution_count": 12,
      "outputs": [
        {
          "output_type": "execute_result",
          "data": {
            "text/plain": [
              "42"
            ]
          },
          "metadata": {},
          "execution_count": 12
        }
      ]
    },
    {
      "cell_type": "markdown",
      "source": [
        "$A\\cdot B = 1\\cdot2 + 5\\cdot8 = 42$"
      ],
      "metadata": {
        "id": "Px5uHZEBGZTt"
      }
    },
    {
      "cell_type": "markdown",
      "source": [
        "Вычислите смешанное произведение трех векторов: $a = (1, 5, 0), b = (2, 8, 7)$ и $c = (7, 1.5, 3)$"
      ],
      "metadata": {
        "id": "On0bDx4AGmdS"
      }
    },
    {
      "cell_type": "markdown",
      "source": [
        "$( \\vec a \\times \\vec b ) \\cdot c = a \\cdot ( \\vec b \\times \\vec c ) $"
      ],
      "metadata": {
        "id": "MASvGmCGG22T"
      }
    },
    {
      "cell_type": "code",
      "source": [
        "a = np.array([1,5,0])\n",
        "b = np.array([2,8,7])\n",
        "c = np.array([7,1.5,3])\n",
        "print(np.dot(np.cross(a,b), c))"
      ],
      "metadata": {
        "colab": {
          "base_uri": "https://localhost:8080/"
        },
        "id": "H1Q_jOEAJaed",
        "outputId": "8ed9a06a-575e-40ef-d9a0-c777e00d85af"
      },
      "execution_count": 13,
      "outputs": [
        {
          "output_type": "stream",
          "name": "stdout",
          "text": [
            "228.5\n"
          ]
        }
      ]
    },
    {
      "cell_type": "markdown",
      "source": [
        "$\\vec a \\times \\vec b  = \\left|\n",
        "\\begin{array}{cccc}\n",
        "\\vec i & \\vec j & \\vec k \\\\\n",
        "1 & 5 & 0\\\\\n",
        "2 & 8 & 7\n",
        "\\end{array}\n",
        "\\right|\n",
        "$\n",
        "\n",
        "$\\vec a \\times \\vec b = \\vec i \\cdot \\begin{pmatrix}5 & 0\\\\ 8 & 7 \\end{pmatrix} - \\vec j \\cdot \\begin{pmatrix} 1 & 0\\\\ 2 & 7 \\end{pmatrix} + \\vec k \\cdot \\begin{pmatrix}1 & 5\\\\ 2 & 8 \\end{pmatrix} =  35\\vec i - 7 \\vec j - 2 \\vec k$\n",
        "\n",
        "$(\\vec a \\times \\vec b) \\cdot c = 7\\cdot 35 - 1.5 \\cdot 7 -3\\cdot 2 = 228.5$"
      ],
      "metadata": {
        "id": "sbJlhMPTG8bX"
      }
    },
    {
      "cell_type": "markdown",
      "source": [
        "Решите линейную систему:\n",
        "$\\left | \\begin{array}{cccc} 1 & 2 & 3 \\\\ 4 & 0 & 6 \\\\ 7 & 8 & 9 \\end{array} \\right | \\cdot X = \\begin{pmatrix} 12 \\\\ 2 \\\\ 1 \\end{pmatrix}$"
      ],
      "metadata": {
        "id": "duEme1RzJ2n-"
      }
    },
    {
      "cell_type": "code",
      "source": [
        "A = np.array([[1,2,3], [4,0,6], [7,8,9]])\n",
        "b = np.array([12,2,1])\n",
        "print(np.linalg.solve(A,b))"
      ],
      "metadata": {
        "colab": {
          "base_uri": "https://localhost:8080/"
        },
        "id": "7RJSHAktN9fg",
        "outputId": "a6aa6e95-d3bf-4b57-dfec-15ea21ac4f66"
      },
      "execution_count": 15,
      "outputs": [
        {
          "output_type": "stream",
          "name": "stdout",
          "text": [
            "[-9.2         0.9         6.46666667]\n"
          ]
        }
      ]
    },
    {
      "cell_type": "markdown",
      "source": [
        "Найдите псевдорешение:\n",
        "\n",
        "$x + 2y – z = 1$\n",
        "\n",
        "$3x – 4y = 7$\n",
        "\n",
        "$8x – 5y + 2z = 12$\n",
        "\n",
        "$2x – 5z = 7$\n",
        "\n",
        "$11x +4y – 7z = 15$\n"
      ],
      "metadata": {
        "id": "BJpaIW9POM3P"
      }
    },
    {
      "cell_type": "code",
      "source": [
        "from numpy.linalg.linalg import LinAlgError\n",
        "\n",
        "A = np.array([[1,2,-1], [3,-4,0], [8,-5,2], [2,0,-5], [11,4,-7]])\n",
        "b = np.array([1,7,12,7,15])\n",
        "try:\n",
        "    print(np.linalg.solve(A,b))\n",
        "except LinAlgError:\n",
        "    print('No accurate solutions')"
      ],
      "metadata": {
        "colab": {
          "base_uri": "https://localhost:8080/"
        },
        "id": "X_0PhUhHQabR",
        "outputId": "cf830e7e-0d31-4f2c-9505-f5243cc3f007"
      },
      "execution_count": 17,
      "outputs": [
        {
          "output_type": "stream",
          "name": "stdout",
          "text": [
            "No accurate solutions\n"
          ]
        }
      ]
    },
    {
      "cell_type": "code",
      "source": [
        "print(f'Approximated solution: {np.linalg.lstsq(A,b, rcond=None)[0]}')"
      ],
      "metadata": {
        "colab": {
          "base_uri": "https://localhost:8080/"
        },
        "id": "aEj0msOSRM8b",
        "outputId": "b90f0ea6-7ed7-4a9c-83ed-3082c05ed7b2"
      },
      "execution_count": 20,
      "outputs": [
        {
          "output_type": "stream",
          "name": "stdout",
          "text": [
            "Approximated solution: [ 1.13919353 -0.90498444 -0.9009803 ]\n"
          ]
        }
      ]
    },
    {
      "cell_type": "markdown",
      "source": [
        "Сколько решений имеет линейная система:\n",
        "$$\\left | \\begin{array}{cccc}\n",
        "1 & 2 & 3\\\\\n",
        "4 & 5 & 6\\\\\n",
        "7 & 8 & 9 \\end{array}\n",
        "\\right | \\cdot X = \\begin{pmatrix} 12 \\\\ 2 \\\\ 1 \\end{pmatrix}$$\n",
        "Если ноль – то измените вектор правой части так, чтобы система стала совместной, и решите ее."
      ],
      "metadata": {
        "id": "xcD0CoBrTYri"
      }
    },
    {
      "cell_type": "code",
      "source": [
        "A = np.array([[1,2,3], [4,5,6], [7,8,9]])\n",
        "b = np.array([[12,2,1]])\n",
        "C = np.concatenate([A, b.T], axis=1)"
      ],
      "metadata": {
        "id": "xx-PggkFT4rw"
      },
      "execution_count": 24,
      "outputs": []
    },
    {
      "cell_type": "code",
      "source": [
        "rank_A, rank_C = np.linalg.matrix_rank(A), np.linalg.matrix_rank(C)\n",
        "if rank_A == rank_C:\n",
        "    print(f'Solutions: {np.linalg.solve(A,b)}')\n",
        "else:\n",
        "    print(f'No solutions, rank A: {rank_A}, extended matrix rank: {rank_C}')"
      ],
      "metadata": {
        "colab": {
          "base_uri": "https://localhost:8080/"
        },
        "id": "sQgj0amqURL3",
        "outputId": "857010d8-7e96-4c69-8654-40c825b8a8ce"
      },
      "execution_count": 26,
      "outputs": [
        {
          "output_type": "stream",
          "name": "stdout",
          "text": [
            "No solutions, rank A: 2, extended matrix rank: 3\n"
          ]
        }
      ]
    },
    {
      "cell_type": "code",
      "source": [
        "vars = np.arange(-10, 20)\n",
        "for var in vars:\n",
        "    b = np.array([[var,2,1]])\n",
        "    C = np.concatenate([A, b.T], axis=1)\n",
        "    rank_C = np.linalg.matrix_rank(C)\n",
        "    if rank_A == rank_C:\n",
        "        try:\n",
        "            print(f'Vector b:', *list(b[0]))\n",
        "            print(f'Rank A: {rank_A}, rank C: {rank_C}, number of variables: {A.shape[1]}')\n",
        "            print(f'Solutions with b = {b}: {np.linalg.solve(A,b.squeeze())}')\n",
        "        except LinAlgError:\n",
        "            print(f'Infinite number of solutions')\n",
        "            print(f'Approximate solutions: {np.linalg.lstsq(A,b.squeeze(), rcond=None)[0]}')"
      ],
      "metadata": {
        "colab": {
          "base_uri": "https://localhost:8080/"
        },
        "id": "uoqDyrtZUwol",
        "outputId": "e2bc596d-bb75-4f0b-d318-3cc78c4db895"
      },
      "execution_count": 41,
      "outputs": [
        {
          "output_type": "stream",
          "name": "stdout",
          "text": [
            "Vector b: 3 2 1\n",
            "Rank A: 2, rank C: 2, number of variables: 3\n",
            "Infinite number of solutions\n",
            "Approximate solutions: [-1.94444444 -0.11111111  1.72222222]\n"
          ]
        }
      ]
    },
    {
      "cell_type": "markdown",
      "source": [
        "$$\\left | \\begin{array}{cccc}\n",
        "1 & 2 & 3\\\\\n",
        "4 & 5 & 6\\\\\n",
        "7 & 8 & 9 \\end{array}\n",
        "\\right | \\cdot X = \\begin{pmatrix} 3 \\\\ 2 \\\\ 1 \\end{pmatrix}$$\n",
        "Пусть $x_3=c,$ тогда $x_2=\\frac{10 - 6c}{3}$, $x_1=3 - 3c - \\frac{20 - 12c}{3}$\n",
        "\n",
        "Пусть $c=x_3=0,$ тогда $x_2=\\frac{10}{3}, x_1=-\\frac{11}{3}$"
      ],
      "metadata": {
        "id": "9LEqed0bYnxz"
      }
    },
    {
      "cell_type": "code",
      "source": [
        "x1, x2, x3 = -11/3, 10/3, 0\n",
        "np.round(x1 + 2 * x2, 10) == 3, np.round(4 * x1 + 5 * x2, 10) == 2, np.round(7 * x1 + 8 * x2, 10) == 1"
      ],
      "metadata": {
        "colab": {
          "base_uri": "https://localhost:8080/"
        },
        "id": "uv_iufctbgMS",
        "outputId": "5c469c01-1397-4dac-d452-ce775657a91c"
      },
      "execution_count": 44,
      "outputs": [
        {
          "output_type": "execute_result",
          "data": {
            "text/plain": [
              "(True, True, True)"
            ]
          },
          "metadata": {},
          "execution_count": 44
        }
      ]
    },
    {
      "cell_type": "markdown",
      "source": [
        "Вычислите LU-разложение матрицы:\n",
        "\n",
        "$$\\left | \\begin{array}{cccc}\n",
        "1 & 2 & 3\\\\\n",
        "2 & 16 & 21\\\\\n",
        "4 & 28 & 73 \\end{array}\n",
        "\\right |$$"
      ],
      "metadata": {
        "id": "X9Kinliyb_v2"
      }
    },
    {
      "cell_type": "code",
      "source": [
        "import scipy\n",
        "import scipy.linalg\n",
        "\n",
        "A = np.array([ [1, 2, 3], [2, 16, 21], [4, 28, 73]])\n",
        "P, L, U = scipy.linalg.lu(A)\n",
        "\n",
        "print(f'L = {L}', f'U = {U}', sep='\\n')"
      ],
      "metadata": {
        "colab": {
          "base_uri": "https://localhost:8080/"
        },
        "id": "mz34aPKnck2z",
        "outputId": "c98e2398-7090-4e7f-940a-a12e17baf81c"
      },
      "execution_count": 47,
      "outputs": [
        {
          "output_type": "stream",
          "name": "stdout",
          "text": [
            "L = [[ 1.    0.    0.  ]\n",
            " [ 0.25  1.    0.  ]\n",
            " [ 0.5  -0.4   1.  ]]\n",
            "U = [[  4.    28.    73.  ]\n",
            " [  0.    -5.   -15.25]\n",
            " [  0.     0.   -21.6 ]]\n"
          ]
        }
      ]
    },
    {
      "cell_type": "code",
      "source": [
        "b = np.array([4,3,1])\n",
        "np.linalg.solve(np.dot(L,U), b)"
      ],
      "metadata": {
        "colab": {
          "base_uri": "https://localhost:8080/"
        },
        "id": "D-VjBShWfLCl",
        "outputId": "0483e971-cb77-4360-9cef-48c341200d91"
      },
      "execution_count": 48,
      "outputs": [
        {
          "output_type": "execute_result",
          "data": {
            "text/plain": [
              "array([ 3.8287037 , -0.42824074,  0.00925926])"
            ]
          },
          "metadata": {},
          "execution_count": 48
        }
      ]
    },
    {
      "cell_type": "markdown",
      "source": [
        "Найдите нормальное псевдорешение недоопределенной системы:\n",
        "\n",
        "$x + 2y – z = 1 $\n",
        "\n",
        "$8x – 5y + 2z = 12$\n",
        "\n",
        "Для этого определите функцию $Q(x,y,z)$, равную норме решения, и найдите ее минимум. \n"
      ],
      "metadata": {
        "id": "cSaA99w7fVU8"
      }
    },
    {
      "cell_type": "code",
      "source": [
        "A = np.array([[1,2,-1], [8,-5,2]])\n",
        "b = np.array([1,12])\n",
        "print(np.linalg.lstsq(A,b, rcond=None)[0])"
      ],
      "metadata": {
        "colab": {
          "base_uri": "https://localhost:8080/"
        },
        "id": "JL3ur2e2fuZU",
        "outputId": "c9cb6413-d02c-4bbe-9f86-b0e5df4ec9b1"
      },
      "execution_count": 55,
      "outputs": [
        {
          "output_type": "stream",
          "name": "stdout",
          "text": [
            "[ 1.38191882 -0.18081181  0.0202952 ]\n"
          ]
        }
      ]
    },
    {
      "cell_type": "code",
      "source": [
        "def Q(x,y,z):\n",
        "    return x**2 + y**2 + z**2"
      ],
      "metadata": {
        "id": "ORGaKWFshswo"
      },
      "execution_count": 51,
      "outputs": []
    },
    {
      "cell_type": "code",
      "source": [
        "from pylab import *\n",
        "from mpl_toolkits.mplot3d import Axes3D\n",
        "\n",
        "fig = figure(figsize=(6,6))\n",
        "ax = Axes3D(fig)\n",
        "X = np.arange(-50, 50, 1)\n",
        "Y = np.arange(-50, 50, 1)\n",
        "ax.scatter3D(1.38191882, -0.18081181,  0.0202952, c='r', marker='*', s=40)\n",
        "ax.text(1.38191882, -0.18081181,  0.0202952, \"____________Min POINT\", color='red')\n",
        "X, Y = np.meshgrid(X, Y)\n",
        "ax.plot_surface(X, Y, Q(X, 5*X - 14, 21*X - 1))\n",
        "plt.xlabel('x')\n",
        "plt.ylabel('y')\n",
        "plt.grid()\n",
        "show()"
      ],
      "metadata": {
        "colab": {
          "base_uri": "https://localhost:8080/",
          "height": 463
        },
        "id": "A4OHmrsliFEm",
        "outputId": "bba0470d-f5af-40e3-a888-457c008877e4"
      },
      "execution_count": 70,
      "outputs": [
        {
          "output_type": "display_data",
          "data": {
            "text/plain": [
              "<Figure size 432x432 with 1 Axes>"
            ],
            "image/png": "[encoded data removed]"
          },
          "metadata": {
            "needs_background": "light"
          }
        }
      ]
    },
    {
      "cell_type": "markdown",
      "source": [
        "Найдите одно из псевдорешений вырожденной системы:\n",
        "$$\\left | \\begin{array}{cccc}\n",
        "1 & 2 & 3\\\\\n",
        "4 & 5 & 6\\\\\n",
        "7 & 8 & 9 \\end{array}\n",
        "\\right | \\cdot X = \\begin{pmatrix} 2 \\\\ 5 \\\\ 11 \\end{pmatrix}$$\n",
        "Попробуйте также отыскать и нормальное псевдорешение.\n"
      ],
      "metadata": {
        "id": "FmSnD68ajx_p"
      }
    },
    {
      "cell_type": "code",
      "source": [
        "A = np.array([[1,2,3], [4,5,6], [7,8,9]])\n",
        "b = np.array([2,5,11])\n",
        "\n",
        "Q, R = np.linalg.qr(A)\n",
        "print(Q)\n",
        "print(R)"
      ],
      "metadata": {
        "colab": {
          "base_uri": "https://localhost:8080/"
        },
        "id": "AJabOOuUsXUR",
        "outputId": "1dd85156-ce15-4def-e539-399b8b33fc24"
      },
      "execution_count": 71,
      "outputs": [
        {
          "output_type": "stream",
          "name": "stdout",
          "text": [
            "[[-0.12309149  0.90453403  0.40824829]\n",
            " [-0.49236596  0.30151134 -0.81649658]\n",
            " [-0.86164044 -0.30151134  0.40824829]]\n",
            "[[-8.12403840e+00 -9.60113630e+00 -1.10782342e+01]\n",
            " [ 0.00000000e+00  9.04534034e-01  1.80906807e+00]\n",
            " [ 0.00000000e+00  0.00000000e+00 -8.88178420e-16]]\n"
          ]
        }
      ]
    },
    {
      "cell_type": "code",
      "source": [
        "print(Q@R)\n",
        "print(Q.T@Q)"
      ],
      "metadata": {
        "colab": {
          "base_uri": "https://localhost:8080/"
        },
        "id": "d8NR-Gansq_z",
        "outputId": "ae477fb1-5d4e-419a-b6b5-f778641aefc0"
      },
      "execution_count": 72,
      "outputs": [
        {
          "output_type": "stream",
          "name": "stdout",
          "text": [
            "[[1. 2. 3.]\n",
            " [4. 5. 6.]\n",
            " [7. 8. 9.]]\n",
            "[[ 1.00000000e+00 -2.48218629e-16 -2.62094065e-17]\n",
            " [-2.48218629e-16  1.00000000e+00  2.82872043e-17]\n",
            " [-2.62094065e-17  2.82872043e-17  1.00000000e+00]]\n"
          ]
        }
      ]
    },
    {
      "cell_type": "code",
      "source": [
        "R1 = R[:2,:2]\n",
        "print(R1)"
      ],
      "metadata": {
        "colab": {
          "base_uri": "https://localhost:8080/"
        },
        "id": "nAom_URzs1py",
        "outputId": "086beb7d-e10d-411e-b303-da4f0142826d"
      },
      "execution_count": 73,
      "outputs": [
        {
          "output_type": "stream",
          "name": "stdout",
          "text": [
            "[[-8.1240384  -9.6011363 ]\n",
            " [ 0.          0.90453403]]\n"
          ]
        }
      ]
    },
    {
      "cell_type": "code",
      "source": [
        "B1 = np.dot(Q.T, b)[:2]\n",
        "print(B1)"
      ],
      "metadata": {
        "colab": {
          "base_uri": "https://localhost:8080/"
        },
        "id": "1D5PYwODs-5q",
        "outputId": "186a8106-4d90-4c17-8823-943657cf13e0"
      },
      "execution_count": 76,
      "outputs": [
        {
          "output_type": "stream",
          "name": "stdout",
          "text": [
            "[-1.21860576e+01  3.55271368e-15]\n"
          ]
        }
      ]
    },
    {
      "cell_type": "code",
      "source": [
        "X1 = np.linalg.solve(R1, B1)\n",
        "print(X1)"
      ],
      "metadata": {
        "colab": {
          "base_uri": "https://localhost:8080/"
        },
        "id": "fLJ-fkG6tbdx",
        "outputId": "c6dd4872-3d1f-4ce7-ab47-cb5c31d35e86"
      },
      "execution_count": 78,
      "outputs": [
        {
          "output_type": "stream",
          "name": "stdout",
          "text": [
            "[1.50000000e+00 3.92767275e-15]\n"
          ]
        }
      ]
    },
    {
      "cell_type": "code",
      "source": [
        "np.linalg.norm(X1)"
      ],
      "metadata": {
        "colab": {
          "base_uri": "https://localhost:8080/"
        },
        "id": "FA241dNPuI0g",
        "outputId": "97dcf4ba-fa59-40e8-92db-79892fc52e7b"
      },
      "execution_count": 118,
      "outputs": [
        {
          "output_type": "execute_result",
          "data": {
            "text/plain": [
              "1.499999999999996"
            ]
          },
          "metadata": {},
          "execution_count": 118
        }
      ]
    },
    {
      "cell_type": "code",
      "source": [
        "X = np.zeros(3)\n",
        "X[:2] = X1\n",
        "print(X)"
      ],
      "metadata": {
        "colab": {
          "base_uri": "https://localhost:8080/"
        },
        "id": "41l-RtUjubkg",
        "outputId": "def1527d-235f-4182-c3cf-6777401fdd1e"
      },
      "execution_count": 124,
      "outputs": [
        {
          "output_type": "stream",
          "name": "stdout",
          "text": [
            "[1.50000000e+00 3.92767275e-15 0.00000000e+00]\n"
          ]
        }
      ]
    },
    {
      "cell_type": "code",
      "source": [
        "np.linalg.norm(np.dot(A, X) - b)"
      ],
      "metadata": {
        "colab": {
          "base_uri": "https://localhost:8080/"
        },
        "id": "2aXIWGlMuMFk",
        "outputId": "92e2f09e-4fb2-490d-f4d6-ea1ecf00bc18"
      },
      "execution_count": 83,
      "outputs": [
        {
          "output_type": "execute_result",
          "data": {
            "text/plain": [
              "1.224744871391589"
            ]
          },
          "metadata": {},
          "execution_count": 83
        }
      ]
    },
    {
      "cell_type": "code",
      "source": [
        "X = np.array([1.5, 1., 0.5])\n",
        "np.linalg.norm(X),  np.linalg.norm(np.dot(A, X) - b)"
      ],
      "metadata": {
        "colab": {
          "base_uri": "https://localhost:8080/"
        },
        "id": "iV0GZWfu3m80",
        "outputId": "c4806637-1fe4-471f-a755-61b6f1f8c1e7"
      },
      "execution_count": 131,
      "outputs": [
        {
          "output_type": "execute_result",
          "data": {
            "text/plain": [
              "(1.8708286933869707, 15.297058540778355)"
            ]
          },
          "metadata": {},
          "execution_count": 131
        }
      ]
    },
    {
      "cell_type": "code",
      "source": [
        "X = np.array([1.25, 0.1, 0.1])\n",
        "np.linalg.norm(X),  np.linalg.norm(np.dot(A, X) - b)"
      ],
      "metadata": {
        "colab": {
          "base_uri": "https://localhost:8080/"
        },
        "id": "RlmSeZz8ulph",
        "outputId": "1b46e6da-f9b7-40e6-c530-d61740ae8ecb"
      },
      "execution_count": 132,
      "outputs": [
        {
          "output_type": "execute_result",
          "data": {
            "text/plain": [
              "(1.2579745625409124, 1.2549900398011127)"
            ]
          },
          "metadata": {},
          "execution_count": 132
        }
      ]
    },
    {
      "cell_type": "code",
      "source": [
        "from itertools import permutations\n",
        "\n",
        "min_norm = np.linalg.norm(np.dot(A, X) - b)\n",
        "x2_min, x3_min = np.inf, np.inf\n",
        "\n",
        "for x2, x3 in permutations(list(np.linspace(-10,10,1000)), 2):\n",
        "    X_ = np.array([1.25, x2, x3])\n",
        "    norm = np.linalg.norm(np.dot(A, X_) - b)\n",
        "    if norm < min_norm:\n",
        "        min_norm = norm\n",
        "        x2_min, x3_min = x2, x3\n",
        "print(1.25, x2_min, x3_min, min_norm)"
      ],
      "metadata": {
        "colab": {
          "base_uri": "https://localhost:8080/"
        },
        "id": "yk0XlNlWv8PH",
        "outputId": "7f85f7ea-59c9-446b-b277-a03c258bdeb4"
      },
      "execution_count": 133,
      "outputs": [
        {
          "output_type": "stream",
          "name": "stdout",
          "text": [
            "1.5 0.4504504504504503 -0.21021021021021014 1.2255439768201717\n"
          ]
        }
      ]
    },
    {
      "cell_type": "code",
      "source": [
        "np.linalg.lstsq(A,b, rcond=None)[0]"
      ],
      "metadata": {
        "colab": {
          "base_uri": "https://localhost:8080/"
        },
        "id": "iGTKYk5az5V2",
        "outputId": "915005bb-f65d-4dc8-835f-8fffa2610ed3"
      },
      "execution_count": 137,
      "outputs": [
        {
          "output_type": "execute_result",
          "data": {
            "text/plain": [
              "array([ 1.25,  0.5 , -0.25])"
            ]
          },
          "metadata": {},
          "execution_count": 137
        }
      ]
    }
  ]
}